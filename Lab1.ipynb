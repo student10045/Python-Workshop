{
 "cells": [
  {
   "cell_type": "code",
   "execution_count": 1,
   "metadata": {},
   "outputs": [
    {
     "name": "stdout",
     "output_type": "stream",
     "text": [
      "The factorial of 7 is 5040\n"
     ]
    }
   ],
   "source": [
    "num = 7\n",
    "# To take input from the user\n",
    "#num = int(input(\"Enter a number: \"))\n",
    "factorial = 1\n",
    "# check if the number is negative, positive or zero\n",
    "if num < 0:\n",
    "   print(\"Sorry, factorial does not exist for negative numbers\")\n",
    "elif num == 0:\n",
    "   print(\"The factorial of 0 is 1\")\n",
    "else:\n",
    "   for i in range(1,num + 1):\n",
    "       factorial = factorial*i\n",
    "   print(\"The factorial of\",num,\"is\",factorial)"
   ]
  },
  {
   "cell_type": "code",
   "execution_count": 2,
   "metadata": {},
   "outputs": [
    {
     "name": "stdout",
     "output_type": "stream",
     "text": [
      "Enter any Number:-   5\n",
      "The factorial of 5 is 120\n"
     ]
    }
   ],
   "source": [
    "num = int(input(\"Enter any Number:-   \"))\n",
    "factorial = 1\n",
    "# check if the number is negative, positive or zero\n",
    "if num < 0:\n",
    "   print(\"Sorry, factorial does not exist for negative numbers\")\n",
    "elif num == 0:\n",
    "   print(\"The factorial of 0 is 1\")\n",
    "else:\n",
    "   for i in range(1,num + 1):\n",
    "       factorial = factorial*i\n",
    "   print(\"The factorial of\",num,\"is\",factorial)"
   ]
  },
  {
   "cell_type": "code",
   "execution_count": 4,
   "metadata": {},
   "outputs": [
    {
     "name": "stdout",
     "output_type": "stream",
     "text": [
      "Enter First Number:-   223\n",
      "Number is ODD\n"
     ]
    }
   ],
   "source": [
    "num = int(input(\"Enter First Number:-   \"))\n",
    "if num % 2 == 0:\n",
    "   print(\"Number is EVEN\")\n",
    "else:\n",
    "   print(\"Number is ODD\")"
   ]
  },
  {
   "cell_type": "code",
   "execution_count": 7,
   "metadata": {},
   "outputs": [
    {
     "name": "stdout",
     "output_type": "stream",
     "text": [
      "Enter any YEAR:-   2020\n",
      "Year is LEAP\n"
     ]
    }
   ],
   "source": [
    "year = int(input(\"Enter any YEAR:-   \"))\n",
    "if year % 4 == 0:\n",
    "   print(\"Year is LEAP\")\n",
    "else:\n",
    "   print(\"Year is NORMAL\")"
   ]
  },
  {
   "cell_type": "code",
   "execution_count": 9,
   "metadata": {},
   "outputs": [
    {
     "name": "stdout",
     "output_type": "stream",
     "text": [
      "Enter any character:-   a\n",
      "Character is VOWEL\n"
     ]
    }
   ],
   "source": [
    "char = str(input(\"Enter any character:-   \"))\n",
    "if char == 'a' or char == 'e' or char == 'i' or char == 'o' or char == 'u':\n",
    "   print(\"Character is VOWEL\")\n",
    "else:\n",
    "   print(\"Character is CONSONANT\")"
   ]
  },
  {
   "cell_type": "code",
   "execution_count": 11,
   "metadata": {},
   "outputs": [
    {
     "name": "stdout",
     "output_type": "stream",
     "text": [
      "Enter First Number:-   2345\n",
      "Enter Second Number:-  876\n",
      "876  is smaller.\n"
     ]
    }
   ],
   "source": [
    "a = int(input(\"Enter First Number:-   \"))\n",
    "b = int(input(\"Enter Second Number:-  \"))\n",
    "if a < b:\n",
    "   print(a,\"  is smaller.\")\n",
    "else:\n",
    "   print(b,\" is smaller.\")"
   ]
  },
  {
   "cell_type": "code",
   "execution_count": 18,
   "metadata": {},
   "outputs": [
    {
     "name": "stdout",
     "output_type": "stream",
     "text": [
      "Enter any Number:-   20\n",
      "Number is Composite dividend is 10\n",
      "Number is Composite dividend is 5\n",
      "Number is Composite dividend is 4\n",
      "Number is Composite dividend is 2\n"
     ]
    }
   ],
   "source": [
    "num = int(input(\"Enter any Number:-   \"))\n",
    "for i in range(num-1,1,-1):\n",
    "    if num % i == 0:\n",
    "       print(\"Number is Composite dividend is\",i)\n"
   ]
  },
  {
   "cell_type": "code",
   "execution_count": 22,
   "metadata": {},
   "outputs": [
    {
     "name": "stdout",
     "output_type": "stream",
     "text": [
      "Enter any Number:-   12\n",
      "1 1 2 3 5 8 13 21 34 55 89 "
     ]
    }
   ],
   "source": [
    "t1 = 1\n",
    "t2 = 1\n",
    "num = int(input(\"Enter any Number:-   \"))\n",
    "for i in range(1,num,1):\n",
    "    print(t1, end = \" \")\n",
    "    new = t1 + t2\n",
    "    t1 = t2\n",
    "    t2 = new"
   ]
  },
  {
   "cell_type": "code",
   "execution_count": 25,
   "metadata": {},
   "outputs": [
    {
     "name": "stdout",
     "output_type": "stream",
     "text": [
      "Enter First Number:-   10\n",
      "Enter Second Number:-  12\n",
      "Enter the operation to be Performed:-  *\n",
      "120\n"
     ]
    }
   ],
   "source": [
    "a = int(input(\"Enter First Number:-   \"))\n",
    "b = int(input(\"Enter Second Number:-  \"))\n",
    "c = str(input(\"Enter the operation to be Performed:-  \"))\n",
    "if c == '+':\n",
    "   print(a+b)\n",
    "elif c == '-':\n",
    "   print(a-b)\n",
    "elif c == '*':\n",
    "   print(a*b)\n",
    "elif c == '/':\n",
    "   print(a/b)"
   ]
  },
  {
   "cell_type": "code",
   "execution_count": 32,
   "metadata": {},
   "outputs": [
    {
     "name": "stdout",
     "output_type": "stream",
     "text": [
      "Enter any Number:-   5\n",
      "        * \n",
      "       * * \n",
      "      * * * \n",
      "     * * * * \n",
      "    * * * * * \n"
     ]
    }
   ],
   "source": [
    "n = int(input(\"Enter any Number:-   \"))\n",
    "k = 2*n - 2\n",
    "for i in range(0, n): \n",
    "    for j in range(0, k): \n",
    "        print(end=\" \")  \n",
    "    k = k - 1\n",
    "    for j in range(0, i+1):  \n",
    "        print(\"* \", end=\"\")  \n",
    "    print(\"\\r\") "
   ]
  },
  {
   "cell_type": "code",
   "execution_count": 1,
   "metadata": {},
   "outputs": [
    {
     "name": "stdout",
     "output_type": "stream",
     "text": [
      "Enter the string on which operation is to be Performed:-  apple\n",
      "5\n"
     ]
    }
   ],
   "source": [
    "str1 = str(input(\"Enter the string on which operation is to be Performed:-  \"))\n",
    "print(len(str1))"
   ]
  },
  {
   "cell_type": "code",
   "execution_count": null,
   "metadata": {},
   "outputs": [],
   "source": []
  }
 ],
 "metadata": {
  "kernelspec": {
   "display_name": "Python 3",
   "language": "python",
   "name": "python3"
  },
  "language_info": {
   "codemirror_mode": {
    "name": "ipython",
    "version": 3
   },
   "file_extension": ".py",
   "mimetype": "text/x-python",
   "name": "python",
   "nbconvert_exporter": "python",
   "pygments_lexer": "ipython3",
   "version": "3.7.4"
  }
 },
 "nbformat": 4,
 "nbformat_minor": 2
}
