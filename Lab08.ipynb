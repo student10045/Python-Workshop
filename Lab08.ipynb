{
 "cells": [
  {
   "cell_type": "code",
   "execution_count": 9,
   "metadata": {},
   "outputs": [
    {
     "name": "stdout",
     "output_type": "stream",
     "text": [
      "par\n",
      "abc\n",
      "def\n"
     ]
    }
   ],
   "source": [
    "#Inheretance\n",
    "class Person:\n",
    "    person_name=\"\"\n",
    "    employee_name=\"\"\n",
    "    teacher_name=\"\"\n",
    "    def disp_person(self):\n",
    "        print(self.person_name)\n",
    "        \n",
    "class Employee(Person):\n",
    "    def disp_employee(self):\n",
    "        print(self.employee_name)\n",
    "\n",
    "class Teacher(Employee):\n",
    "    def disp_Teacher(self):\n",
    "        print(self.teacher_name)\n",
    "        \n",
    "emp1 = Teacher()\n",
    "emp1.person_name = \"per\"\n",
    "emp1.employee_name = \"emp\"\n",
    "emp1.teacher_name = \"tea\"\n",
    "emp1.disp_person()\n",
    "emp1.disp_employee()\n",
    "emp1.disp_Teacher()"
   ]
  },
  {
   "cell_type": "code",
   "execution_count": 2,
   "metadata": {},
   "outputs": [
    {
     "name": "stdout",
     "output_type": "stream",
     "text": [
      "apple\n",
      "banana\n"
     ]
    }
   ],
   "source": [
    "#Single Inheretance\n",
    "class A:\n",
    "    a_n=\"\"\n",
    "    b_n=\"\"\n",
    "    def d_a(self):\n",
    "        print(self.a_n)\n",
    "class B(A):\n",
    "    def d_b(self):\n",
    "        print(self.b_n)\n",
    "\n",
    "o1 = B()\n",
    "o1.a_n=\"apple\"\n",
    "o1.b_n=\"banana\"\n",
    "o1.d_a()\n",
    "o1.d_b()"
   ]
  },
  {
   "cell_type": "code",
   "execution_count": 3,
   "metadata": {},
   "outputs": [
    {
     "name": "stdout",
     "output_type": "stream",
     "text": [
      "apple\n",
      "banana\n",
      "cherry\n"
     ]
    }
   ],
   "source": [
    "#Multilevel Inheretance\n",
    "class A:\n",
    "    a_n=\"\"\n",
    "    b_n=\"\"\n",
    "    c_n=\"\"\n",
    "    def d_a(self):\n",
    "        print(self.a_n)\n",
    "class B(A):\n",
    "    def d_b(self):\n",
    "        print(self.b_n)\n",
    "class C(B):\n",
    "    def d_c(self):\n",
    "        print(self.c_n)\n",
    "o1 = C()\n",
    "o1.a_n=\"apple\"\n",
    "o1.b_n=\"banana\"\n",
    "o1.c_n=\"cherry\"\n",
    "o1.d_a()\n",
    "o1.d_b()\n",
    "o1.d_c()"
   ]
  },
  {
   "cell_type": "code",
   "execution_count": 5,
   "metadata": {},
   "outputs": [
    {
     "name": "stdout",
     "output_type": "stream",
     "text": [
      "apple\n",
      "banana\n",
      "cherry\n"
     ]
    }
   ],
   "source": [
    "#Multiple Inheretance\n",
    "class A:\n",
    "    a_n=\"\"\n",
    "    b_n=\"\"\n",
    "    c_n=\"\"\n",
    "    def d_a(self):\n",
    "        print(self.a_n)\n",
    "class B:\n",
    "    def d_b(self):\n",
    "        print(self.b_n)\n",
    "class C(A,B):\n",
    "    def d_c(self):\n",
    "        print(self.c_n)\n",
    "o1 = C()\n",
    "o1.a_n=\"apple\"\n",
    "o1.b_n=\"banana\"\n",
    "o1.c_n=\"cherry\"\n",
    "o1.d_a()\n",
    "o1.d_b()\n",
    "o1.d_c()"
   ]
  },
  {
   "cell_type": "code",
   "execution_count": 9,
   "metadata": {},
   "outputs": [
    {
     "name": "stdout",
     "output_type": "stream",
     "text": [
      "apple\n",
      "apple\n",
      "banana\n",
      "cherry\n"
     ]
    }
   ],
   "source": [
    "#Herarical Inheretance\n",
    "class A:\n",
    "    a_n=\"\"\n",
    "    b_n=\"\"\n",
    "    c_n=\"\"\n",
    "    def d_a(self):\n",
    "        print(self.a_n)\n",
    "class B(A):\n",
    "    def d_b(self):\n",
    "        print(self.b_n)\n",
    "class C(A):\n",
    "    def d_c(self):\n",
    "        print(self.c_n)\n",
    "o1 = B()\n",
    "o2 = C()\n",
    "o1.a_n=\"apple\"\n",
    "o2.a_n=\"apple\"\n",
    "o1.b_n=\"banana\"\n",
    "o2.c_n=\"cherry\"\n",
    "o1.d_a()\n",
    "o2.d_a()\n",
    "o1.d_b()\n",
    "o2.d_c()"
   ]
  },
  {
   "cell_type": "code",
   "execution_count": 11,
   "metadata": {},
   "outputs": [
    {
     "name": "stdout",
     "output_type": "stream",
     "text": [
      "ant\n",
      "bat\n",
      "cat\n",
      "dim\n",
      "eeg\n"
     ]
    }
   ],
   "source": [
    "#Hybrid Inheretance\n",
    "class A:\n",
    "    a_n=\"\"\n",
    "    b_n=\"\"\n",
    "    c_n=\"\"\n",
    "    d_n=\"\"\n",
    "    e_n=\"\"\n",
    "    def d_a(self):\n",
    "        print(self.a_n)\n",
    "class B(A):\n",
    "    def d_b(self):\n",
    "        print(self.b_n)\n",
    "class C(B):\n",
    "    def d_c(self):\n",
    "        print(self.c_n)\n",
    "class D:\n",
    "    def d_d(self):\n",
    "        print(self.d_n)\n",
    "class E(C,D):\n",
    "    def d_e(self):\n",
    "        print(self.e_n)\n",
    "o1 = E()\n",
    "o1.a_n=\"ant\"\n",
    "o1.b_n=\"bat\"\n",
    "o1.c_n=\"cat\"\n",
    "o1.d_n=\"dim\"\n",
    "o1.e_n=\"eeg\"\n",
    "o1.d_a()\n",
    "o1.d_b()\n",
    "o1.d_c()\n",
    "o1.d_d()\n",
    "o1.d_e()"
   ]
  },
  {
   "cell_type": "code",
   "execution_count": null,
   "metadata": {},
   "outputs": [],
   "source": []
  }
 ],
 "metadata": {
  "kernelspec": {
   "display_name": "Python 3",
   "language": "python",
   "name": "python3"
  },
  "language_info": {
   "codemirror_mode": {
    "name": "ipython",
    "version": 3
   },
   "file_extension": ".py",
   "mimetype": "text/x-python",
   "name": "python",
   "nbconvert_exporter": "python",
   "pygments_lexer": "ipython3",
   "version": "3.7.4"
  }
 },
 "nbformat": 4,
 "nbformat_minor": 2
}
