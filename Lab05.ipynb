{
 "cells": [
  {
   "cell_type": "code",
   "execution_count": 7,
   "metadata": {},
   "outputs": [
    {
     "name": "stdout",
     "output_type": "stream",
     "text": [
      "{1: 10, 2: 20, 3: 30, 4: 40, 5: 50, 6: 60}\n"
     ]
    }
   ],
   "source": [
    "#Q1./Q3.\n",
    "dic1 = {1:10,2:20}\n",
    "dic2 = {3:30,4:40}\n",
    "dic3 = {5:50,6:60}\n",
    "dicr = {}\n",
    "dicr.update(dic1)\n",
    "dicr.update(dic2)\n",
    "dicr.update(dic3)\n",
    "print(dicr)"
   ]
  },
  {
   "cell_type": "code",
   "execution_count": 9,
   "metadata": {},
   "outputs": [
    {
     "name": "stdout",
     "output_type": "stream",
     "text": [
      "{1: 1, 2: 4, 3: 9, 4: 16, 5: 25, 6: 36, 7: 49, 8: 64, 9: 81, 10: 100, 11: 121, 12: 144, 13: 169, 14: 196, 15: 225}\n"
     ]
    }
   ],
   "source": [
    "#Q2.\n",
    "dic1 = {}\n",
    "for i in range (1,16):\n",
    "    dic1[i] = i**2\n",
    "print(dic1)"
   ]
  },
  {
   "cell_type": "code",
   "execution_count": 10,
   "metadata": {},
   "outputs": [
    {
     "name": "stdout",
     "output_type": "stream",
     "text": [
      "{'cherry', 'apple'}\n"
     ]
    }
   ],
   "source": [
    "#Q1.\n",
    "se1 = {\"apple\", \"banana\", \"cherry\"}\n",
    "se2 = {\"cherry\", \"microsoft\", \"apple\"}\n",
    "ser = se1.intersection(se2)\n",
    "print(ser) "
   ]
  },
  {
   "cell_type": "code",
   "execution_count": 11,
   "metadata": {},
   "outputs": [
    {
     "name": "stdout",
     "output_type": "stream",
     "text": [
      "{'microsoft', 'cherry', 'banana', 'apple'}\n"
     ]
    }
   ],
   "source": [
    "#Q2.\n",
    "se1 = {\"apple\", \"banana\", \"cherry\"}\n",
    "se2 = {\"cherry\", \"microsoft\", \"apple\"}\n",
    "ser = se1.union(se2)\n",
    "print(ser)"
   ]
  },
  {
   "cell_type": "code",
   "execution_count": 12,
   "metadata": {},
   "outputs": [
    {
     "name": "stdout",
     "output_type": "stream",
     "text": [
      "set()\n"
     ]
    }
   ],
   "source": [
    "#Q3.\n",
    "se1 = {\"apple\", \"banana\", \"cherry\"}\n",
    "se1.clear()\n",
    "print(se1)"
   ]
  },
  {
   "cell_type": "code",
   "execution_count": 15,
   "metadata": {},
   "outputs": [
    {
     "name": "stdout",
     "output_type": "stream",
     "text": [
      "True\n",
      "False\n"
     ]
    }
   ],
   "source": [
    "#Q4.\n",
    "se1 = {\"a\", \"b\", \"c\"}\n",
    "se2 = {\"f\", \"e\", \"d\", \"c\", \"b\", \"a\"}\n",
    "ser1 = se1.issubset(se2)\n",
    "ser2 = se1.issuperset(se2)\n",
    "print(ser1) \n",
    "print(ser2)"
   ]
  },
  {
   "cell_type": "code",
   "execution_count": 17,
   "metadata": {},
   "outputs": [
    {
     "name": "stdout",
     "output_type": "stream",
     "text": [
      "{'cherry', 'banana'}\n"
     ]
    }
   ],
   "source": [
    "#Q5.\n",
    "se1 = {\"apple\", \"banana\", \"cherry\"}\n",
    "se2 = {\"google\", \"microsoft\", \"apple\"}\n",
    "ser = se1.difference(se2)\n",
    "print(ser)"
   ]
  },
  {
   "cell_type": "code",
   "execution_count": 18,
   "metadata": {},
   "outputs": [
    {
     "name": "stdout",
     "output_type": "stream",
     "text": [
      "{'microsoft', 'google', 'cherry', 'banana'}\n"
     ]
    }
   ],
   "source": [
    "#Q6.\n",
    "se1 = {\"apple\", \"banana\", \"cherry\"}\n",
    "se2 = {\"google\", \"microsoft\", \"apple\"}\n",
    "ser = se1.symmetric_difference(se2)\n",
    "print(ser)"
   ]
  },
  {
   "cell_type": "code",
   "execution_count": null,
   "metadata": {},
   "outputs": [],
   "source": []
  }
 ],
 "metadata": {
  "kernelspec": {
   "display_name": "Python 3",
   "language": "python",
   "name": "python3"
  },
  "language_info": {
   "codemirror_mode": {
    "name": "ipython",
    "version": 3
   },
   "file_extension": ".py",
   "mimetype": "text/x-python",
   "name": "python",
   "nbconvert_exporter": "python",
   "pygments_lexer": "ipython3",
   "version": "3.7.4"
  }
 },
 "nbformat": 4,
 "nbformat_minor": 2
}
