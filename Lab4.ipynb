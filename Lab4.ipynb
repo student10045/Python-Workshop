{
 "cells": [
  {
   "cell_type": "code",
   "execution_count": 1,
   "metadata": {},
   "outputs": [
    {
     "name": "stdout",
     "output_type": "stream",
     "text": [
      "45\n"
     ]
    }
   ],
   "source": [
    "#Q1.\n",
    "lst1 = [1,2,3,4,5,6,7,8,9]\n",
    "sum = 0\n",
    "for i in lst1:\n",
    "    sum = sum + i\n",
    "print(sum)"
   ]
  },
  {
   "cell_type": "code",
   "execution_count": 2,
   "metadata": {},
   "outputs": [
    {
     "name": "stdout",
     "output_type": "stream",
     "text": [
      "120\n"
     ]
    }
   ],
   "source": [
    "#Q2.\n",
    "lst1 = [1,2,3,4,5]\n",
    "pro = 1\n",
    "for i in lst1:\n",
    "    pro = pro * i\n",
    "print(pro)"
   ]
  },
  {
   "cell_type": "code",
   "execution_count": 9,
   "metadata": {},
   "outputs": [
    {
     "name": "stdout",
     "output_type": "stream",
     "text": [
      "Largest number is:-\n",
      "3577\n"
     ]
    }
   ],
   "source": [
    "#Q3.\n",
    "lst1 = [1,2,533,3577,3,4,5,6,7,8,9,123,45]\n",
    "lst1.sort()\n",
    "print(\"Largest number is:-\")\n",
    "print(lst1[-1])"
   ]
  },
  {
   "cell_type": "code",
   "execution_count": 10,
   "metadata": {},
   "outputs": [
    {
     "name": "stdout",
     "output_type": "stream",
     "text": [
      "Smallest Niumber is:-\n",
      "1\n"
     ]
    }
   ],
   "source": [
    "#Q4.\n",
    "lst1 = [1,2,533,3577,3,4,5,6,7,8,9,123,45]\n",
    "lst1.sort()\n",
    "print(\"Smallest Niumber is:-\")\n",
    "print(lst1[0])"
   ]
  },
  {
   "cell_type": "code",
   "execution_count": 14,
   "metadata": {},
   "outputs": [
    {
     "name": "stdout",
     "output_type": "stream",
     "text": [
      "2\n"
     ]
    }
   ],
   "source": [
    "#Q5.\n",
    "lst1 = ['abc','xyz','aba','1221']\n",
    "c = 0\n",
    "for i in lst1:\n",
    "    if len(i)  > 2 and i[0] == i[-1]:\n",
    "        c = c + 1\n",
    "print(c)"
   ]
  },
  {
   "cell_type": "code",
   "execution_count": 20,
   "metadata": {},
   "outputs": [
    {
     "name": "stdout",
     "output_type": "stream",
     "text": [
      "[(2, 1), (1, 2), (2, 3), (4, 4), (2, 5)]\n"
     ]
    }
   ],
   "source": [
    "#Q6.\n",
    "def myFunc(e):\n",
    "    return e[-1]\n",
    "\n",
    "lst1 = [(2,5),(1,2),(4,4),(2,3),(2,1)]\n",
    "lst1.sort(key = myFunc)\n",
    "print(lst1)"
   ]
  },
  {
   "cell_type": "code",
   "execution_count": 51,
   "metadata": {},
   "outputs": [
    {
     "name": "stdout",
     "output_type": "stream",
     "text": [
      "[1, 23, 4, 3, 25, 15, 52, 2, 43]\n"
     ]
    }
   ],
   "source": [
    "#Q7.\n",
    "lst1 = [1,23,4,3,3,25,15,52,4,2,43,1,3]\n",
    "lst2 = []\n",
    "for i in lst1:\n",
    "    if i not in lst2:\n",
    "        lst2.append(i)\n",
    "lst1.clear()\n",
    "lst1 = lst2.copy()\n",
    "print(lst1)"
   ]
  },
  {
   "cell_type": "code",
   "execution_count": 33,
   "metadata": {},
   "outputs": [
    {
     "name": "stdout",
     "output_type": "stream",
     "text": [
      "Enter a list:-  \n",
      "List is empty.\n"
     ]
    }
   ],
   "source": [
    "#Q8.\n",
    "lst1 = list(input(\"Enter a list:-  \"))\n",
    "if len(lst1) == 0:\n",
    "    print(\"List is empty.\")\n",
    "else:\n",
    "    print(\"List is not empty.\")"
   ]
  },
  {
   "cell_type": "code",
   "execution_count": 37,
   "metadata": {},
   "outputs": [
    {
     "name": "stdout",
     "output_type": "stream",
     "text": [
      "[1, 23, 4, 3, 3, 25, 15, 52, 4, 2, 43, 1, 3]\n"
     ]
    }
   ],
   "source": [
    "#Q9.\n",
    "lst1 = [1,23,4,3,3,25,15,52,4,2,43,1,3]\n",
    "lst2 = lst1.copy()\n",
    "print(lst2)"
   ]
  },
  {
   "cell_type": "code",
   "execution_count": 41,
   "metadata": {},
   "outputs": [
    {
     "name": "stdout",
     "output_type": "stream",
     "text": [
      "banana\n",
      "orange\n"
     ]
    }
   ],
   "source": [
    "#Q10.\n",
    "lst1 = ['apple','mango','pear','banana','orange']\n",
    "for i in lst1:\n",
    "    if len(i) > 5:\n",
    "        print(i)"
   ]
  },
  {
   "cell_type": "code",
   "execution_count": 49,
   "metadata": {},
   "outputs": [
    {
     "name": "stdout",
     "output_type": "stream",
     "text": [
      "True\n"
     ]
    }
   ],
   "source": [
    "#Q11.\n",
    "lst1 = [3,142,5,252,5,25,2552,2,452]\n",
    "lst2 = [41,422,2,53,34,3,4]\n",
    "k = 0\n",
    "for i in lst1:\n",
    "    b = i\n",
    "    for j in lst2:\n",
    "        if j == i:\n",
    "            k = k + 1\n",
    "if k > 0:\n",
    "    print(\"True\")"
   ]
  },
  {
   "cell_type": "code",
   "execution_count": 48,
   "metadata": {},
   "outputs": [
    {
     "name": "stdout",
     "output_type": "stream",
     "text": [
      "['green', 'white', 'black']\n"
     ]
    }
   ],
   "source": [
    "#Q12.\n",
    "lst1 = ['red','green','white','black','pink','yellow']\n",
    "lst1.remove('red')\n",
    "lst1.remove('pink')\n",
    "lst1.remove('yellow')\n",
    "print(lst1)"
   ]
  },
  {
   "cell_type": "code",
   "execution_count": null,
   "metadata": {},
   "outputs": [],
   "source": []
  }
 ],
 "metadata": {
  "kernelspec": {
   "display_name": "Python 3",
   "language": "python",
   "name": "python3"
  },
  "language_info": {
   "codemirror_mode": {
    "name": "ipython",
    "version": 3
   },
   "file_extension": ".py",
   "mimetype": "text/x-python",
   "name": "python",
   "nbconvert_exporter": "python",
   "pygments_lexer": "ipython3",
   "version": "3.7.4"
  }
 },
 "nbformat": 4,
 "nbformat_minor": 2
}
