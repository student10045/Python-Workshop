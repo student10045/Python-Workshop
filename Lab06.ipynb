{
 "cells": [
  {
   "cell_type": "code",
   "execution_count": 21,
   "metadata": {},
   "outputs": [
    {
     "name": "stdout",
     "output_type": "stream",
     "text": [
      "Enter first number:-  12\n",
      "Enter second number:-  5\n",
      "60\n"
     ]
    }
   ],
   "source": [
    "#Q01.\n",
    "def multi(a,b):\n",
    "  return(a*b)\n",
    "a = int(input(\"Enter first number:-  \"))\n",
    "b = int(input(\"Enter second number:-  \"))\n",
    "z = multi(a,b)\n",
    "print(z)"
   ]
  },
  {
   "cell_type": "code",
   "execution_count": 22,
   "metadata": {},
   "outputs": [
    {
     "name": "stdout",
     "output_type": "stream",
     "text": [
      "Enter first number:-  12\n",
      "Enter second number:-  18\n",
      "30\n"
     ]
    }
   ],
   "source": [
    "#Q02.\n",
    "def add(a,b):\n",
    "  return(a+b)\n",
    "a = int(input(\"Enter first number:-  \"))\n",
    "b = int(input(\"Enter second number:-  \"))\n",
    "z = add(a,b)\n",
    "print(z)"
   ]
  },
  {
   "cell_type": "code",
   "execution_count": 23,
   "metadata": {},
   "outputs": [
    {
     "name": "stdout",
     "output_type": "stream",
     "text": [
      "Enter a number:-  5\n",
      "120\n"
     ]
    }
   ],
   "source": [
    "#Q03.\n",
    "def fact(a):\n",
    "    b = 1\n",
    "    for i in range(a,1,-1):\n",
    "        b = b*i\n",
    "    return(b)\n",
    "a = int(input(\"Enter a number:-  \"))\n",
    "z = fact(a)\n",
    "print(z)"
   ]
  },
  {
   "cell_type": "code",
   "execution_count": 39,
   "metadata": {},
   "outputs": [
    {
     "name": "stdout",
     "output_type": "stream",
     "text": [
      "Enter a number:-  10\n",
      "1 1 2 3 5 8 13 21 34 "
     ]
    }
   ],
   "source": [
    "#Q04.\n",
    "def fibb(a):\n",
    "    if(a < 0):\n",
    "        print(\"Invalid Input.\")\n",
    "    t1 = 1\n",
    "    t2 = 1\n",
    "    for i in range(1,a,1):\n",
    "        print(t1, end = \" \")\n",
    "        new = t1 + t2\n",
    "        t1 = t2\n",
    "        t2 = new\n",
    "a = int(input(\"Enter a number:-  \"))\n",
    "fibb(a)"
   ]
  },
  {
   "cell_type": "code",
   "execution_count": 28,
   "metadata": {},
   "outputs": [
    {
     "name": "stdout",
     "output_type": "stream",
     "text": [
      "Enter first number:-  12\n",
      "Enter second number:-  15\n",
      "Numbers before swapping:-\n",
      "12 15\n",
      "15 12\n"
     ]
    }
   ],
   "source": [
    "#Q05.\n",
    "def swap(a,b):\n",
    "    print(\"Numbers before swapping:-\")\n",
    "    print(+a,+b)\n",
    "    temp = a\n",
    "    a = b\n",
    "    b = temp\n",
    "    print(+a,+b)\n",
    "a = int(input(\"Enter first number:-  \"))\n",
    "b = int(input(\"Enter second number:-  \"))\n",
    "swap(a,b)"
   ]
  },
  {
   "cell_type": "code",
   "execution_count": 34,
   "metadata": {},
   "outputs": [
    {
     "name": "stdout",
     "output_type": "stream",
     "text": [
      "Enter first number:-  81\n",
      "Enter second number:-  153\n",
      "9\n"
     ]
    }
   ],
   "source": [
    "#Q06.\n",
    "def gcd(a,b):\n",
    "    if (a > b):\n",
    "        m = b\n",
    "    else:\n",
    "        m = a\n",
    "    for i in range(1,m+1):\n",
    "        if((a%i == 0) and (b%i == 0)):\n",
    "            n = i\n",
    "    return(n)\n",
    "a = int(input(\"Enter first number:-  \"))\n",
    "b = int(input(\"Enter second number:-  \"))\n",
    "z = gcd(a,b)\n",
    "print(z)"
   ]
  },
  {
   "cell_type": "code",
   "execution_count": 44,
   "metadata": {},
   "outputs": [
    {
     "name": "stdout",
     "output_type": "stream",
     "text": [
      "Enter a character:-  A\n",
      "65\n"
     ]
    }
   ],
   "source": [
    "#Q07.\n",
    "def asci(a):\n",
    "  return(ord(a))\n",
    "a = input(\"Enter a character:-  \")\n",
    "z = asci(a)\n",
    "print(z)"
   ]
  },
  {
   "cell_type": "code",
   "execution_count": 4,
   "metadata": {},
   "outputs": [
    {
     "data": {
      "text/plain": [
       "60.0"
      ]
     },
     "execution_count": 4,
     "metadata": {},
     "output_type": "execute_result"
    }
   ],
   "source": [
    "#Q08.\n",
    "import math\n",
    "x = '3 + 56 - 9 + math.sqrt(100)'\n",
    "eval(x)"
   ]
  },
  {
   "cell_type": "code",
   "execution_count": 9,
   "metadata": {},
   "outputs": [
    {
     "name": "stdout",
     "output_type": "stream",
     "text": [
      "Local current time : Wed Apr  1 13:46:32 2020\n"
     ]
    }
   ],
   "source": [
    "#Q09.\n",
    "import time;\n",
    "t = time.asctime( time.localtime(time.time()) )\n",
    "print(\"Local current time :\", t)"
   ]
  },
  {
   "cell_type": "code",
   "execution_count": 16,
   "metadata": {},
   "outputs": [
    {
     "name": "stdout",
     "output_type": "stream",
     "text": [
      "Enter first number:-  12\n",
      "Enter second number:-  10\n",
      "2\n"
     ]
    }
   ],
   "source": [
    "#Q10.\n",
    "def sub(a,b):\n",
    "  return(max(a,b)-min(a,b))\n",
    "a = int(input(\"Enter first number:-  \"))\n",
    "b = int(input(\"Enter second number:-  \"))\n",
    "z = sub(a,b)\n",
    "print(z)"
   ]
  },
  {
   "cell_type": "code",
   "execution_count": 27,
   "metadata": {},
   "outputs": [
    {
     "name": "stdout",
     "output_type": "stream",
     "text": [
      "-1.0 -2.0\n",
      "-1.0 -2.0\n"
     ]
    }
   ],
   "source": [
    "#Q11.\n",
    "import math\n",
    "def quadratic(a,b,c):\n",
    "    x1 = -b / (2*a)\n",
    "    x2 = math.sqrt(b**2 - 4*a*c) / (2*a)\n",
    "    return (x1 + x2), (x1 - x2)\n",
    "(m,n) = quadratic(31, 93, 62)\n",
    "print(m,n)\n",
    "(p,q) = quadratic(c=62, b=93, a=31)\n",
    "print(p,q)"
   ]
  },
  {
   "cell_type": "code",
   "execution_count": 10,
   "metadata": {},
   "outputs": [
    {
     "name": "stdout",
     "output_type": "stream",
     "text": [
      "Enter degree celcius temperature:-  27\n",
      "300\n"
     ]
    }
   ],
   "source": [
    "#Q12.\n",
    "#The program converts degree celcius to farhaneit scale using default argument?\n",
    "def farhn(a,b = 273):\n",
    "  return(a+b)\n",
    "a = int(input(\"Enter degree celcius temperature:-  \"))\n",
    "z = farhn(a)\n",
    "print(z)"
   ]
  },
  {
   "cell_type": "code",
   "execution_count": 23,
   "metadata": {},
   "outputs": [
    {
     "name": "stdout",
     "output_type": "stream",
     "text": [
      "21\n",
      "2400\n",
      "Contented is a synonym of HAPPY\n",
      "Pleased is a synonym of HAPPY\n",
      "Joyful is a synonym of HAPPY\n",
      "Merry is a synonym of HAPPY\n"
     ]
    }
   ],
   "source": [
    "#Q13.\n",
    "def mult(*num):\n",
    "    a = 1  \n",
    "    for x in num:\n",
    "        a *= x\n",
    "    return(a)\n",
    "y = mult(3,7)\n",
    "print(y)\n",
    "z = mult(5,6,10,8)\n",
    "print(z)\n",
    "\n",
    "def syno(*happy):\n",
    "    for x in happy:\n",
    "        print(x, \"is a synonym of HAPPY\")\n",
    "syno(\"Contented\",\"Pleased\",\"Joyful\",\"Merry\")"
   ]
  },
  {
   "cell_type": "code",
   "execution_count": 51,
   "metadata": {},
   "outputs": [
    {
     "name": "stdout",
     "output_type": "stream",
     "text": [
      "10\n"
     ]
    }
   ],
   "source": [
    "#Q14.\n",
    "def aadd(a):\n",
    "    sum = 0\n",
    "    for i in a:\n",
    "        sum = sum + i\n",
    "    return(sum)\n",
    "arr1 = [1,2,3,4]\n",
    "z = aadd(arr1)\n",
    "print(z)"
   ]
  },
  {
   "cell_type": "code",
   "execution_count": null,
   "metadata": {},
   "outputs": [],
   "source": []
  }
 ],
 "metadata": {
  "kernelspec": {
   "display_name": "Python 3",
   "language": "python",
   "name": "python3"
  },
  "language_info": {
   "codemirror_mode": {
    "name": "ipython",
    "version": 3
   },
   "file_extension": ".py",
   "mimetype": "text/x-python",
   "name": "python",
   "nbconvert_exporter": "python",
   "pygments_lexer": "ipython3",
   "version": "3.7.4"
  }
 },
 "nbformat": 4,
 "nbformat_minor": 2
}
