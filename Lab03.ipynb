{
 "cells": [
  {
   "cell_type": "code",
   "execution_count": 1,
   "metadata": {},
   "outputs": [
    {
     "name": "stdout",
     "output_type": "stream",
     "text": [
      "('apple', 'banana', 'cherry')\n"
     ]
    }
   ],
   "source": [
    "#Q01.\n",
    "atuple = (\"apple\", \"banana\", \"cherry\")\n",
    "print(atuple)"
   ]
  },
  {
   "cell_type": "code",
   "execution_count": 2,
   "metadata": {},
   "outputs": [
    {
     "name": "stdout",
     "output_type": "stream",
     "text": [
      "('physics', 'chemistry', 1991, 1928)\n"
     ]
    }
   ],
   "source": [
    "#Q02.\n",
    "tup1 = (\"physics\", \"chemistry\",1991,1928)\n",
    "print(tup1)"
   ]
  },
  {
   "cell_type": "code",
   "execution_count": 3,
   "metadata": {},
   "outputs": [
    {
     "name": "stdout",
     "output_type": "stream",
     "text": [
      "40\n"
     ]
    }
   ],
   "source": [
    "#Q03. \n",
    "tup1 = (10, 20, 30, 40, 50)\n",
    "print(tup1[3])"
   ]
  },
  {
   "cell_type": "code",
   "execution_count": 4,
   "metadata": {},
   "outputs": [
    {
     "name": "stdout",
     "output_type": "stream",
     "text": [
      "(1, 2)\n",
      "('apple', 'mango')\n",
      "(2.32, 24.6)\n"
     ]
    }
   ],
   "source": [
    "#Q04.\n",
    "tup1 = (1,2,'apple','mango',2.32,24.6)\n",
    "tup2 = tup1[0:2]\n",
    "print(tup2)\n",
    "tup3 = tup1[2:4]\n",
    "print(tup3)\n",
    "tup4 = tup1[4: ]\n",
    "print(tup4)"
   ]
  },
  {
   "cell_type": "code",
   "execution_count": 8,
   "metadata": {},
   "outputs": [
    {
     "name": "stdout",
     "output_type": "stream",
     "text": [
      "('apple', 'banana', 'cherry', 'orange', 'mango', 'guava')\n"
     ]
    }
   ],
   "source": [
    "#Q05.\n",
    "tup1 = ('apple', 'banana', 'cherry', 'orange')\n",
    "tup2 = ('mango','guava')\n",
    "print(tup1 + tup2)"
   ]
  },
  {
   "cell_type": "code",
   "execution_count": 9,
   "metadata": {},
   "outputs": [
    {
     "name": "stdout",
     "output_type": "stream",
     "text": [
      "games\n"
     ]
    }
   ],
   "source": [
    "#Q06.\n",
    "import functools \n",
    "import operator  \n",
    "  \n",
    "def convertTuple(tup): \n",
    "    str = functools.reduce(operator.add, (tup)) \n",
    "    return str\n",
    "\n",
    "atuple = ('g', 'a', 'm', 'e', 's') \n",
    "astr = convertTuple(atuple) \n",
    "print(astr) "
   ]
  },
  {
   "cell_type": "code",
   "execution_count": 10,
   "metadata": {},
   "outputs": [
    {
     "name": "stdout",
     "output_type": "stream",
     "text": [
      "orange\n",
      "cherry\n"
     ]
    }
   ],
   "source": [
    "#Q07.\n",
    "tup1 = ('apple', 'banana', 'cherry', 'orange','mango','guava')\n",
    "print(tup1[3])\n",
    "print(tup1[-4])"
   ]
  },
  {
   "cell_type": "code",
   "execution_count": 11,
   "metadata": {},
   "outputs": [
    {
     "name": "stdout",
     "output_type": "stream",
     "text": [
      "apple\n",
      "banana\n",
      "cherry\n",
      "orange\n",
      "mango\n",
      "guava\n"
     ]
    }
   ],
   "source": [
    "#Q08.\n",
    "tup1 = ('apple', 'banana', 'cherry', 'orange','mango','guava')\n",
    "for i in tup1:\n",
    "    print(i)"
   ]
  },
  {
   "cell_type": "code",
   "execution_count": 12,
   "metadata": {},
   "outputs": [
    {
     "name": "stdout",
     "output_type": "stream",
     "text": [
      "3\n"
     ]
    }
   ],
   "source": [
    "#Q09.\n",
    "tup1 = (2, 4, 5, 6, 2, 3, 4, 4, 7) \n",
    "count = tup1.count(4)\n",
    "print(count)"
   ]
  },
  {
   "cell_type": "code",
   "execution_count": 13,
   "metadata": {},
   "outputs": [
    {
     "name": "stdout",
     "output_type": "stream",
     "text": [
      "Yes\n"
     ]
    }
   ],
   "source": [
    "#Q10.\n",
    "tup1 = ('apple', 'banana', 'cherry', 'orange','mango','guava')\n",
    "if 'apple' in tup1:\n",
    "    print(\"Yes\")"
   ]
  },
  {
   "cell_type": "code",
   "execution_count": 15,
   "metadata": {},
   "outputs": [
    {
     "name": "stdout",
     "output_type": "stream",
     "text": [
      "('apple', 'banana', 'cherry', 'orange', 'mango', 'guava')\n"
     ]
    }
   ],
   "source": [
    "#Q11.\n",
    "lst1 = ['apple', 'banana', 'cherry', 'orange','mango','guava']\n",
    "tup1 = tuple(lst1)\n",
    "print(tup1)"
   ]
  },
  {
   "cell_type": "code",
   "execution_count": 16,
   "metadata": {},
   "outputs": [
    {
     "name": "stdout",
     "output_type": "stream",
     "text": [
      "('apple', 'cherry', 'orange', 'mango', 'guava')\n"
     ]
    }
   ],
   "source": [
    "#Q12.\n",
    "tup1 = ('apple', 'banana', 'cherry', 'orange','mango','guava')\n",
    "lst1 = list(lst1)\n",
    "lst1.remove(\"banana\")\n",
    "tup1 = tuple(lst1)\n",
    "print(tup1)"
   ]
  },
  {
   "cell_type": "code",
   "execution_count": 18,
   "metadata": {},
   "outputs": [
    {
     "name": "stdout",
     "output_type": "stream",
     "text": [
      "('cherry', 'orange', 'mango')\n"
     ]
    }
   ],
   "source": [
    "#Q13.\n",
    "tup1 = ('apple', 'banana', 'cherry', 'orange','mango','guava')\n",
    "print(tup1[2:5])"
   ]
  },
  {
   "cell_type": "code",
   "execution_count": 19,
   "metadata": {},
   "outputs": [
    {
     "name": "stdout",
     "output_type": "stream",
     "text": [
      "3\n"
     ]
    }
   ],
   "source": [
    "#Q14.\n",
    "tup1 = ('apple', 'banana', 'cherry', 'orange','mango','guava')\n",
    "print(tup1.index('orange'))"
   ]
  },
  {
   "cell_type": "code",
   "execution_count": 20,
   "metadata": {},
   "outputs": [
    {
     "name": "stdout",
     "output_type": "stream",
     "text": [
      "6\n"
     ]
    }
   ],
   "source": [
    "#Q15.\n",
    "tup1 = ('apple', 'banana', 'cherry', 'orange','mango','guava')\n",
    "print(len(tup1))"
   ]
  },
  {
   "cell_type": "code",
   "execution_count": null,
   "metadata": {},
   "outputs": [],
   "source": []
  }
 ],
 "metadata": {
  "kernelspec": {
   "display_name": "Python 3",
   "language": "python",
   "name": "python3"
  },
  "language_info": {
   "codemirror_mode": {
    "name": "ipython",
    "version": 3
   },
   "file_extension": ".py",
   "mimetype": "text/x-python",
   "name": "python",
   "nbconvert_exporter": "python",
   "pygments_lexer": "ipython3",
   "version": "3.7.4"
  }
 },
 "nbformat": 4,
 "nbformat_minor": 2
}
