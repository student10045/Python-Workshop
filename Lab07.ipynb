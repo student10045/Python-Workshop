{
 "cells": [
  {
   "cell_type": "code",
   "execution_count": 5,
   "metadata": {},
   "outputs": [
    {
     "name": "stdout",
     "output_type": "stream",
     "text": [
      "Enter side one  3\n",
      "Enter side two  4\n",
      "Enter side three  5\n",
      "The sides of triangle are-\n",
      "3\n",
      "4\n",
      "5\n"
     ]
    }
   ],
   "source": [
    "#Q1.\n",
    "class Triangle:\n",
    "    a = 0\n",
    "    b = 0\n",
    "    c = 0\n",
    "    def create_triangle(self,sd1,sd2,sd3):\n",
    "        self.a = sd1\n",
    "        self.b = sd2\n",
    "        self.c = sd3\n",
    "    def print_sides(self):\n",
    "        print(self.a)\n",
    "        print(self.b)\n",
    "        print(self.c)\n",
    "ob = Triangle()\n",
    "x = int(input(\"Enter side one  \"))\n",
    "y = int(input(\"Enter side two  \"))\n",
    "z = int(input(\"Enter side three  \"))\n",
    "ob.create_triangle(x,y,z)\n",
    "print(\"The sides of triangle are-\")\n",
    "ob.print_sides()"
   ]
  },
  {
   "cell_type": "code",
   "execution_count": 1,
   "metadata": {},
   "outputs": [
    {
     "name": "stdout",
     "output_type": "stream",
     "text": [
      "Enter any string:  apple\n",
      "The srting is: \n",
      "apple\n"
     ]
    }
   ],
   "source": [
    "#Q2.\n",
    "class ABC:\n",
    "    var = \"\"    \n",
    "    def get_string(self,a):\n",
    "        self.var = a\n",
    "    def print_string(self):\n",
    "        print(self.var)\n",
    "        \n",
    "ob1 = ABC()\n",
    "g = str(input(\"Enter any string:  \"))\n",
    "ob1.get_string(g)\n",
    "print(\"The srting is: \")\n",
    "ob1.print_string()"
   ]
  },
  {
   "cell_type": "code",
   "execution_count": 8,
   "metadata": {},
   "outputs": [
    {
     "name": "stdout",
     "output_type": "stream",
     "text": [
      "Enter Length  2\n",
      "Enter Breadth  4\n",
      "The perimeter of this rectangle is:-\n",
      "12\n"
     ]
    }
   ],
   "source": [
    "#Q3.\n",
    "class Rectangle:\n",
    "    l = 0\n",
    "    b = 0\n",
    "    def cr_re(self,leng,bred):\n",
    "        self.l = leng\n",
    "        self.b = bred\n",
    "    def peri(self):\n",
    "        return(2*(self.l + self.b))\n",
    "ob = Rectangle()\n",
    "x = int(input(\"Enter Length  \"))\n",
    "y = int(input(\"Enter Breadth  \"))\n",
    "ob.cr_re(x,y)\n",
    "print(\"The perimeter of this rectangle is:-\")\n",
    "print(ob.peri())"
   ]
  },
  {
   "cell_type": "code",
   "execution_count": 38,
   "metadata": {},
   "outputs": [
    {
     "name": "stdout",
     "output_type": "stream",
     "text": [
      "Enter the radius  1.5\n",
      "Area of circle is  7.0649999999999995\n",
      "Circumference of circle is  9.42\n"
     ]
    }
   ],
   "source": [
    "#Q4.\n",
    "class Circle:\n",
    "    rad = 0.0\n",
    "    def __init__ (self,r):\n",
    "        self.rad = r\n",
    "    def area(self):\n",
    "        return(3.14*self.rad*self.rad)\n",
    "    def circum(self):\n",
    "        return(6.28*self.rad)\n",
    "r = float(input(\"Enter the radius  \"))     \n",
    "ob = Circle(r)\n",
    "print(\"Area of circle is \",ob.area())\n",
    "print(\"Circumference of circle is \",ob.circum())"
   ]
  },
  {
   "cell_type": "code",
   "execution_count": 2,
   "metadata": {},
   "outputs": [
    {
     "name": "stdout",
     "output_type": "stream",
     "text": [
      "Area of circle is  153.86\n",
      "Circumference of circle is  43.96\n"
     ]
    }
   ],
   "source": [
    "#Q5.\n",
    "class Circle:\n",
    "    rad = 0.0\n",
    "    def __init__ (self):\n",
    "        self.rad = 7.0\n",
    "    def area(self):\n",
    "        return(3.14*self.rad*self.rad)\n",
    "    def circum(self):\n",
    "        return(6.28*self.rad)    \n",
    "ob = Circle()\n",
    "print(\"Area of circle is \",ob.area())\n",
    "print(\"Circumference of circle is \",ob.circum())"
   ]
  },
  {
   "cell_type": "code",
   "execution_count": 5,
   "metadata": {},
   "outputs": [
    {
     "name": "stdout",
     "output_type": "stream",
     "text": [
      "Enter the temperature  140\n",
      "Celcius temp is  284.0\n",
      "Farenhite temp is  60.0\n"
     ]
    }
   ],
   "source": [
    "#Q6.\n",
    "class Temp:\n",
    "    tem = 0.0\n",
    "    def __init__ (self,a):\n",
    "        self.tem = a\n",
    "    def cel(self):\n",
    "        return((1.8*self.tem)+32)\n",
    "    def fare(self):\n",
    "        return((self.tem-32)/1.8)\n",
    "t = float(input(\"Enter the temperature  \"))     \n",
    "ob = Temp(t)\n",
    "print(\"Celcius temp is \",ob.cel())\n",
    "print(\"Farenhite temp is \",ob.fare())"
   ]
  },
  {
   "cell_type": "code",
   "execution_count": 21,
   "metadata": {},
   "outputs": [
    {
     "name": "stdout",
     "output_type": "stream",
     "text": [
      "(Name  Roll_No.  Marks  Age)\n",
      "('Apple', '123456', 245, 12)\n"
     ]
    }
   ],
   "source": [
    "#Q7.\n",
    "class Student:\n",
    "    name = \"\"\n",
    "    rollno = \"\"\n",
    "    marks = 0\n",
    "    age = 0\n",
    "    def set_age(self,a):\n",
    "        self.age = a\n",
    "    def set_marks(self,m):\n",
    "        self.marks = m\n",
    "    def basic_profile(self):\n",
    "        return(self.name,self.rollno,self.marks,self.age)\n",
    "    \n",
    "st1 = Student()\n",
    "st1.name = \"Apple\"\n",
    "st1.rollno = \"123456\"\n",
    "st1.set_marks(245)\n",
    "st1.set_age(12)\n",
    "print(\"(Name  Roll_No.  Marks  Age)\")\n",
    "print(st1.basic_profile())"
   ]
  },
  {
   "cell_type": "code",
   "execution_count": 2,
   "metadata": {},
   "outputs": [
    {
     "name": "stdout",
     "output_type": "stream",
     "text": [
      "Enter hrs1 = 4\n",
      "Enter mins1  = 15\n",
      "Enter hrs2  = 5\n",
      "Enter mins2  = 60\n",
      "10 hours 15 minutes\n",
      "Total time in minutes:-\n",
      "615 minutes\n"
     ]
    }
   ],
   "source": [
    "#Q8.\n",
    "class Atime:\n",
    "    hrs1 = 0\n",
    "    mins1 = 0\n",
    "    hrs2 = 0\n",
    "    mins2 = 0\n",
    "    hrst = 0\n",
    "    minst = 0\n",
    "    ttime = 0\n",
    "    def set_time(self,a,b,c,d):\n",
    "        self.hrs1 = a \n",
    "        self.mins1 = b\n",
    "        self.hrs2 = c\n",
    "        self.mins2 = d\n",
    "    def total_time(self):\n",
    "        self.minst = self.mins1 + self.mins2\n",
    "        if(self.minst > 59):\n",
    "            self.hrst = self.hrs1 + self.hrs2 + int(self.minst/60)\n",
    "            self.minst = self.minst - (int(self.minst/60))*60\n",
    "        else:\n",
    "            self.hrst = self.hrs1 + self.hrs2\n",
    "        print(self.hrst , \"hours\" , self.minst , \"minutes\")\n",
    "        self.ttime = (self.hrst*60) + self.minst\n",
    "        print(\"Total time in minutes:-\")\n",
    "        print(self.ttime, \"minutes\")\n",
    "        \n",
    "ob = Atime()\n",
    "w = int(input(\"Enter hrs1 = \"))\n",
    "x = int(input(\"Enter mins1  = \"))\n",
    "y = int(input(\"Enter hrs2  = \"))\n",
    "z = int(input(\"Enter mins2  = \"))\n",
    "ob.set_time(w,x,y,z)\n",
    "ob.total_time()"
   ]
  },
  {
   "cell_type": "code",
   "execution_count": 6,
   "metadata": {},
   "outputs": [
    {
     "name": "stdout",
     "output_type": "stream",
     "text": [
      "Enter any string:  apple\n",
      "elppa\n"
     ]
    }
   ],
   "source": [
    "#Q9.\n",
    "class ABC:\n",
    "    var = str(input(\"Enter any string:  \"))\n",
    "    rvar = \"\"\n",
    "    def rev(self):\n",
    "        self.rvar = self.var[::-1]\n",
    "        print(self.rvar)\n",
    "        \n",
    "ob1 = ABC()\n",
    "ob1.rev()"
   ]
  },
  {
   "cell_type": "code",
   "execution_count": null,
   "metadata": {},
   "outputs": [],
   "source": []
  }
 ],
 "metadata": {
  "kernelspec": {
   "display_name": "Python 3",
   "language": "python",
   "name": "python3"
  },
  "language_info": {
   "codemirror_mode": {
    "name": "ipython",
    "version": 3
   },
   "file_extension": ".py",
   "mimetype": "text/x-python",
   "name": "python",
   "nbconvert_exporter": "python",
   "pygments_lexer": "ipython3",
   "version": "3.7.4"
  }
 },
 "nbformat": 4,
 "nbformat_minor": 2
}
