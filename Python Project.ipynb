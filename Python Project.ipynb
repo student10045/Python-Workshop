{
 "cells": [
  {
   "cell_type": "code",
   "execution_count": 1,
   "metadata": {},
   "outputs": [
    {
     "name": "stdout",
     "output_type": "stream",
     "text": [
      "----------------------------\n",
      "     Mad Libs Generator\n",
      "----------------------------\n",
      "\t\tNIKHIL SHARMA-1118\n",
      "\t\tRISHABH SINGLA-1128\n",
      "\n",
      "MENU\n",
      "1.Randomly predefined lists. \n",
      "2.Input from user.\n",
      "\n",
      "Enter your choice and 0 to exit:-  1\n",
      "Gross Shubham beat Rishabh around the beautiful mall.\n",
      "\n",
      "Do you want to regenerate yes or no:-   \n",
      "no\n"
     ]
    }
   ],
   "source": [
    "# Python Mini Project. MAD LIBS GAME'\n",
    "# Nikhil Sharma , 2K18CSUN01118 , CSE 4A\n",
    "# Rishabh Singla , 2K18CSUN01128 , CSE 4A\n",
    "\n",
    "import random\n",
    "\n",
    "print('----------------------------')\n",
    "print('     Mad Libs Generator')\n",
    "print('----------------------------')\n",
    "print('\\t\\tNIKHIL SHARMA-1118\\n\\t\\tRISHABH SINGLA-1128')\n",
    "print('\\nMENU\\n1.Randomly predefined lists. \\n2.Input from user.\\n')\n",
    "\n",
    "def funcpre():\n",
    "    random_name=['Sam','Jhon','Karan','Shubham','Shreya','Nidhi','Pari']\n",
    "    your_name = ['Nikhil','Rishabh']\n",
    "    place = ['park','mall','cafe','club']\n",
    "    adjective =['amazing','beautiful','wonderful','marvellous']\n",
    "    adjs = ['Chatty','Brave',\"Crazy\", \"Nice\", \"Lovely\", \"Gross\"]\n",
    "    verbs = ['beat','drawn','drove',\"met\", \"proposed to\", \"robbed\", \"pushed\"]\n",
    "    prepositions = ['beneath','under',\"above the\", \"near the\", \"around the\", \"behind\", \"beside\"]\n",
    "    print(random.choice(adjs) + \" \" + random.choice(random_name) + \" \" + (random.choice(verbs))+ \" \" + random.choice(your_name) + \" \" + (random.choice(prepositions))+ \" \" + random.choice(adjective)+ \" \" + random.choice(place )+ \".\")\n",
    "\n",
    "def funcuser():\n",
    "    print('------------------------------------------------------------------------------')\n",
    "    print('*--..(exclamation)..! they said ..(adverb).. as they jumped into their..(noun)..\\n and flew off with their..(adjective)....(plural noun)..--*\\n')\n",
    "    print('------------------------------------------------------------------------------')\n",
    "    print('Enter examples for each for given above')\n",
    "    print('---------------------------------------')\n",
    "    ex=input('Enter eg for exclamation:  ')\n",
    "    ad=input('Enter eg for adverb:  ')\n",
    "    no=input('Enter eg for noun:  ')\n",
    "    adj=input('Enter eg for adjective:  ')\n",
    "    plnon=input('Enter eg for plural noun:  ')\n",
    "    print(ex+' ! they said '+ad+' as they jumped into their '+no+' and flew off with their '+adj+' '+plnon+\".\")\n",
    "\n",
    "choice=int(input('Enter your choice and 0 to exit:-  '))    \n",
    "\n",
    "if(choice==1):\n",
    "    while True:\n",
    "        funcpre();\n",
    "        c=input('\\nDo you want to regenerate yes or no:-   \\n')\n",
    "        if not(c=='yes'):\n",
    "            break\n",
    "if(choice==2):\n",
    "    while True:\n",
    "        funcuser();\n",
    "        c=input('\\nDo you want to regenerate yes or no:-   \\n')\n",
    "        if not(c=='yes'):\n",
    "            break"
   ]
  },
  {
   "cell_type": "code",
   "execution_count": null,
   "metadata": {},
   "outputs": [],
   "source": []
  }
 ],
 "metadata": {
  "kernelspec": {
   "display_name": "Python 3",
   "language": "python",
   "name": "python3"
  },
  "language_info": {
   "codemirror_mode": {
    "name": "ipython",
    "version": 3
   },
   "file_extension": ".py",
   "mimetype": "text/x-python",
   "name": "python",
   "nbconvert_exporter": "python",
   "pygments_lexer": "ipython3",
   "version": "3.7.4"
  }
 },
 "nbformat": 4,
 "nbformat_minor": 2
}
