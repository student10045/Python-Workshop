{
 "cells": [
  {
   "cell_type": "code",
   "execution_count": 4,
   "metadata": {},
   "outputs": [
    {
     "name": "stdout",
     "output_type": "stream",
     "text": [
      "Sorry\n",
      "Sorry\n",
      "Sorry\n",
      "Hello\n",
      "Sorry\n",
      "Sorry\n"
     ]
    }
   ],
   "source": [
    "#Q01.\n",
    "i = 0\n",
    "while i < 6:\n",
    "    if(i == 3):\n",
    "        print(\"Hello\")\n",
    "    else:\n",
    "        print(\"Sorry\")\n",
    "    i = i + 1"
   ]
  },
  {
   "cell_type": "code",
   "execution_count": 5,
   "metadata": {},
   "outputs": [
    {
     "name": "stdout",
     "output_type": "stream",
     "text": [
      "2\n",
      "4\n",
      "6\n",
      "8\n",
      "10\n"
     ]
    }
   ],
   "source": [
    "#Q02.\n",
    "i = 1\n",
    "while i < 6:\n",
    "    print(i * 2)\n",
    "    if i == 5:\n",
    "        break\n",
    "    i += 1"
   ]
  },
  {
   "cell_type": "code",
   "execution_count": 9,
   "metadata": {},
   "outputs": [
    {
     "name": "stdout",
     "output_type": "stream",
     "text": [
      "2\n",
      "4\n",
      "6\n",
      "8\n",
      "12\n"
     ]
    }
   ],
   "source": [
    "#Q03. \n",
    "i = 0\n",
    "while i < 6:\n",
    "  i += 1\n",
    "  if i == 5:\n",
    "    continue\n",
    "  print(i * 2)"
   ]
  },
  {
   "cell_type": "code",
   "execution_count": 11,
   "metadata": {},
   "outputs": [
    {
     "name": "stdout",
     "output_type": "stream",
     "text": [
      "Current Letter : P\n",
      "Current Letter : y\n",
      "Current Letter : t\n",
      "This is pass block\n",
      "Current Letter : h\n",
      "Current Letter : o\n",
      "Current Letter : n\n",
      "Good bye!\n"
     ]
    }
   ],
   "source": [
    "#Q04.\n",
    "for letter in \"Python\": \n",
    "   if letter == 'h':\n",
    "      pass\n",
    "      print (\"This is pass block\")\n",
    "   print(\"Current Letter :\", letter)\n",
    "print(\"Good bye!\")"
   ]
  },
  {
   "cell_type": "code",
   "execution_count": 12,
   "metadata": {},
   "outputs": [
    {
     "name": "stdout",
     "output_type": "stream",
     "text": [
      "Enter String:-   apple\n",
      "5\n"
     ]
    }
   ],
   "source": [
    "#Q05.\n",
    "str1 = str(input(\"Enter String:-   \"))\n",
    "print(len(str1))"
   ]
  },
  {
   "cell_type": "code",
   "execution_count": 21,
   "metadata": {},
   "outputs": [
    {
     "name": "stdout",
     "output_type": "stream",
     "text": [
      "Enter String:-   apple\n",
      "5\n"
     ]
    }
   ],
   "source": [
    "#Q06.\n",
    "str1 = str(input(\"Enter String:-   \"))\n",
    "count = 0\n",
    "x = str1.isspace()\n",
    "for i in str1:\n",
    "    if x == True:\n",
    "        count = count + 0\n",
    "    else:\n",
    "        count = count + 1\n",
    "print(count)"
   ]
  },
  {
   "cell_type": "code",
   "execution_count": 3,
   "metadata": {},
   "outputs": [
    {
     "name": "stdout",
     "output_type": "stream",
     "text": [
      "Enter String:-   apple\n",
      "aple\n"
     ]
    }
   ],
   "source": [
    "#Q07.\n",
    "str1 = str(input(\"Enter String:-   \"))\n",
    "str2 = str1[0:2] + str1[-2: ]\n",
    "print(str2)"
   ]
  },
  {
   "cell_type": "code",
   "execution_count": 4,
   "metadata": {},
   "outputs": [
    {
     "name": "stdout",
     "output_type": "stream",
     "text": [
      "Enter String:-   apple as a \n",
      "apple $s $ \n"
     ]
    }
   ],
   "source": [
    "#Q08.\n",
    "str1 = str(input(\"Enter String:-   \"))\n",
    "char1 = str1[0]\n",
    "str2 = str1.replace(char1,'$')\n",
    "print(char1 + str2[1: ])"
   ]
  },
  {
   "cell_type": "code",
   "execution_count": 2,
   "metadata": {},
   "outputs": [
    {
     "name": "stdout",
     "output_type": "stream",
     "text": [
      "Enter 1 String:-   apple\n",
      "Enter 2 String:-   start\n",
      "rtplestaap\n"
     ]
    }
   ],
   "source": [
    "#Q09.\n",
    "str1 = str(input(\"Enter 1 String:-   \"))\n",
    "str2 = str(input(\"Enter 2 String:-   \"))\n",
    "str3 = str2[-2: ] + str1[2: ] + str2[ :-2] + str1[0:2]\n",
    "print(str3)"
   ]
  },
  {
   "cell_type": "code",
   "execution_count": 4,
   "metadata": {},
   "outputs": [
    {
     "name": "stdout",
     "output_type": "stream",
     "text": [
      "Enter string:-  apple\n",
      "appleing\n"
     ]
    }
   ],
   "source": [
    "#Q10.\n",
    "str1 = str(input(\"Enter string:-  \"))\n",
    "if len(str1) < 3:\n",
    "    print(str1)\n",
    "elif str1[-3: ] == \"ing\":\n",
    "    print(str1[ :-4] + \"ly\")\n",
    "else:\n",
    "    print(str1 + \"ing\")"
   ]
  },
  {
   "cell_type": "code",
   "execution_count": null,
   "metadata": {},
   "outputs": [],
   "source": []
  }
 ],
 "metadata": {
  "kernelspec": {
   "display_name": "Python 3",
   "language": "python",
   "name": "python3"
  },
  "language_info": {
   "codemirror_mode": {
    "name": "ipython",
    "version": 3
   },
   "file_extension": ".py",
   "mimetype": "text/x-python",
   "name": "python",
   "nbconvert_exporter": "python",
   "pygments_lexer": "ipython3",
   "version": "3.7.4"
  }
 },
 "nbformat": 4,
 "nbformat_minor": 2
}
