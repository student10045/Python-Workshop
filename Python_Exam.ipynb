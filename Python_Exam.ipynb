{
 "cells": [
  {
   "cell_type": "code",
   "execution_count": 31,
   "metadata": {},
   "outputs": [
    {
     "name": "stdout",
     "output_type": "stream",
     "text": [
      "2 5 9\n"
     ]
    }
   ],
   "source": [
    "# Viva:\n",
    "# Q1. What's the syntax to call a constructor........\n",
    "# Ans. Here is an example.\n",
    "class A:\n",
    "    a = 0\n",
    "    b = 0\n",
    "    def __init__(self,a,b):\n",
    "        self.a = a\n",
    "        self.b = b\n",
    "        \n",
    "class B(A):\n",
    "    c = 0\n",
    "    def __init__(self,a,b,c):\n",
    "        super(B,self).__init__(a,b)\n",
    "        self.c = c\n",
    "        \n",
    "    def prnt(self):\n",
    "        print(self.a , self.b , self.c)\n",
    "    \n",
    "ob1 = B(2,5,9)\n",
    "ob1.prnt()"
   ]
  },
  {
   "cell_type": "code",
   "execution_count": null,
   "metadata": {},
   "outputs": [],
   "source": [
    "# Viva\n",
    "# Q2. How is a class made as inherited class......\n",
    "# Ans.\n",
    "# class A: -------------{Parent Class}\n",
    "    # Variables\n",
    "    # Functions\n",
    "# class B(A): ----------{Child class}\n",
    "    # Variables\n",
    "    # Functions\n",
    "# class B inherites class A. "
   ]
  },
  {
   "cell_type": "code",
   "execution_count": 14,
   "metadata": {},
   "outputs": [
    {
     "name": "stdout",
     "output_type": "stream",
     "text": [
      "Max\n",
      "2012\n"
     ]
    }
   ],
   "source": [
    "# Viva\n",
    "# Q3. Print an element of nested dictionary......\n",
    "# Ans. Here is an example.\n",
    "a = {           # --------------{Nested Dictionary}\n",
    "  \"b\" : {\n",
    "    \"n\" : \"Max\",\n",
    "    \"y\" : 2009\n",
    "  },\n",
    "  \"c\" : {\n",
    "    \"n\" : \"Mini\",\n",
    "    \"y\" : 2013\n",
    "  },\n",
    "  \"d\" : {\n",
    "    \"n\" : \"Jack\",\n",
    "    \"y\" : 2012\n",
    "  }\n",
    "} \n",
    "\n",
    "print(a[\"b\"][\"n\"])   # ------{Printing Elements}\n",
    "print(a[\"d\"][\"y\"])   # ------{Printing Elements}"
   ]
  },
  {
   "cell_type": "code",
   "execution_count": 2,
   "metadata": {},
   "outputs": [
    {
     "name": "stdout",
     "output_type": "stream",
     "text": [
      "Enter first number:-  1\n",
      "Enter second number:-  36\n",
      "Enter third number:-  2\n",
      "6.0\n"
     ]
    }
   ],
   "source": [
    "# Set-C:\n",
    "# Q1. Write a program that calculates and prints..........\n",
    "import math\n",
    "\n",
    "def otpt(a,b,c):\n",
    "    return(math.sqrt((2*a*b)/c))\n",
    "\n",
    "a = int(input(\"Enter first number:-  \"))\n",
    "b = int(input(\"Enter second number:-  \"))\n",
    "c = int(input(\"Enter third number:-  \"))\n",
    "q = otpt(a,b,c)\n",
    "print(q)"
   ]
  },
  {
   "cell_type": "code",
   "execution_count": 12,
   "metadata": {},
   "outputs": [
    {
     "name": "stdout",
     "output_type": "stream",
     "text": [
      "Enter a string:-  Continental\n",
      "The letters at the even indexes in the input string 'Continental' are:-\n",
      "C\n",
      "n\n",
      "i\n",
      "e\n",
      "t\n",
      "l\n"
     ]
    }
   ],
   "source": [
    "# Set-C:\n",
    "# Q2. Please write a program which accepts a string..........\n",
    "\n",
    "def prnt(strng):\n",
    "    for i in range(0,len(strng),2):\n",
    "        print(strng[i])\n",
    "\n",
    "strng = str(input(\"Enter a string:-  \"))\n",
    "print(\"The letters at the even indexes in the input string '\" + strng + \"' are:-\")\n",
    "prnt(strng)"
   ]
  },
  {
   "cell_type": "code",
   "execution_count": null,
   "metadata": {},
   "outputs": [],
   "source": []
  }
 ],
 "metadata": {
  "kernelspec": {
   "display_name": "Python 3",
   "language": "python",
   "name": "python3"
  },
  "language_info": {
   "codemirror_mode": {
    "name": "ipython",
    "version": 3
   },
   "file_extension": ".py",
   "mimetype": "text/x-python",
   "name": "python",
   "nbconvert_exporter": "python",
   "pygments_lexer": "ipython3",
   "version": "3.7.4"
  }
 },
 "nbformat": 4,
 "nbformat_minor": 2
}
