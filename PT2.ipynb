{
 "cells": [
  {
   "cell_type": "code",
   "execution_count": 27,
   "metadata": {},
   "outputs": [
    {
     "name": "stdout",
     "output_type": "stream",
     "text": [
      "Enter the number of elements:-10\n",
      "1\n",
      "2\n",
      "5\n",
      "-7\n",
      "0\n",
      "56\n",
      "58\n",
      "71\n",
      "-8\n",
      "27\n",
      "[1, 2, 5, -7, 0, 56, 58, 71, -8, 27]\n",
      "[2, 56, 58]\n",
      "[1, 5, 71, 27]\n",
      "[1, 2, 5, 56, 58, 71, 27]\n",
      "[-7, -8]\n",
      "[0]\n",
      "[5, 71]\n",
      "[-8, -7, 0, 1, 2, 5, 27, 56, 58, 71]\n"
     ]
    }
   ],
   "source": [
    "def bubble(a):\n",
    "    for l in range(len(a)-1,0,-1):\n",
    "        for m in range(l): \n",
    "            if (a[m] > a[m+1]):\n",
    "                temp = a[m]\n",
    "                a[m] = a[m+1]\n",
    "                a[m+1] = temp\n",
    "        \n",
    "check = 0\n",
    "mlst = []\n",
    "n = int(input(\"Enter the number of elements:-\"))\n",
    "for i in range(0,n):\n",
    "    elem = int(input())\n",
    "    mlst.append(elem)\n",
    "print(mlst)\n",
    "\n",
    "prime = []\n",
    "even = []\n",
    "odd = []\n",
    "pstv = []\n",
    "ngtv = []\n",
    "zero = []\n",
    "for j in mlst:\n",
    "    if (j>0 and j%2==0):\n",
    "        even.append(j)\n",
    "        pstv.append(j)\n",
    "                  \n",
    "    elif (j<0):\n",
    "        ngtv.append(j)\n",
    "        \n",
    "    elif (j>0 and j%2!=0):\n",
    "        odd.append(j)\n",
    "        pstv.append(j)\n",
    "        if(j!=1):\n",
    "            for k in range(2,j):\n",
    "                if(j%k == 0):\n",
    "                    check = check+1\n",
    "            if(check == 0):\n",
    "                prime.append(j)\n",
    "            \n",
    "    elif (j==0):\n",
    "        zero.append(j)\n",
    "\n",
    "print(even)\n",
    "print(odd)\n",
    "print(pstv)\n",
    "print(ngtv)\n",
    "print(zero)\n",
    "print(prime)\n",
    "tlst = zero + pstv + even + ngtv + odd + prime\n",
    "tlst = list(dict.fromkeys(tlst))\n",
    "bubble(tlst)\n",
    "print(tlst)"
   ]
  },
  {
   "cell_type": "code",
   "execution_count": null,
   "metadata": {},
   "outputs": [],
   "source": []
  },
  {
   "cell_type": "code",
   "execution_count": null,
   "metadata": {},
   "outputs": [],
   "source": []
  }
 ],
 "metadata": {
  "kernelspec": {
   "display_name": "Python 3",
   "language": "python",
   "name": "python3"
  },
  "language_info": {
   "codemirror_mode": {
    "name": "ipython",
    "version": 3
   },
   "file_extension": ".py",
   "mimetype": "text/x-python",
   "name": "python",
   "nbconvert_exporter": "python",
   "pygments_lexer": "ipython3",
   "version": "3.7.4"
  }
 },
 "nbformat": 4,
 "nbformat_minor": 2
}
