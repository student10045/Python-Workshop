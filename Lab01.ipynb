{
 "cells": [
  {
   "cell_type": "code",
   "execution_count": 1,
   "metadata": {},
   "outputs": [
    {
     "name": "stdout",
     "output_type": "stream",
     "text": [
      "Enter number:-  223\n",
      "Odd\n"
     ]
    }
   ],
   "source": [
    "#Q01.\n",
    "num = int(input(\"Enter number:-  \"))\n",
    "if num % 2 == 0:\n",
    "    print(\"Even\")\n",
    "else:\n",
    "    print(\"Odd\")"
   ]
  },
  {
   "cell_type": "code",
   "execution_count": 2,
   "metadata": {},
   "outputs": [
    {
     "name": "stdout",
     "output_type": "stream",
     "text": [
      "Enter Year:- 2020\n",
      "Leap\n"
     ]
    }
   ],
   "source": [
    "#Q02.\n",
    "year = int(input(\"Enter Year:- \"))\n",
    "if year % 4 == 0:\n",
    "    print(\"Leap\")\n",
    "else:\n",
    "    print(\"Normal\")"
   ]
  },
  {
   "cell_type": "code",
   "execution_count": 3,
   "metadata": {},
   "outputs": [
    {
     "name": "stdout",
     "output_type": "stream",
     "text": [
      "Enter character:-  e\n",
      "VOWEL\n"
     ]
    }
   ],
   "source": [
    "#Q03.\n",
    "char = str(input(\"Enter character:-  \"))\n",
    "if char == 'a' or char == 'e' or char == 'i' or char == 'o' or char == 'u':\n",
    "   print(\"VOWEL\")\n",
    "else:\n",
    "   print(\"CONSONANT\")"
   ]
  },
  {
   "cell_type": "code",
   "execution_count": 4,
   "metadata": {},
   "outputs": [
    {
     "name": "stdout",
     "output_type": "stream",
     "text": [
      "Enter First Number:-   2223\n",
      "Enter Second Number:-  3232\n",
      "2223   is smaller.\n"
     ]
    }
   ],
   "source": [
    "#Q04.\n",
    "a = int(input(\"Enter First Number:-   \"))\n",
    "b = int(input(\"Enter Second Number:-  \"))\n",
    "if a < b:\n",
    "   print(a,\"  is smaller.\")\n",
    "else:\n",
    "   print(b,\" is smaller.\")"
   ]
  },
  {
   "cell_type": "code",
   "execution_count": 5,
   "metadata": {},
   "outputs": [
    {
     "name": "stdout",
     "output_type": "stream",
     "text": [
      "Enter any Number:-   7\n",
      "The factorial of 7 is 5040\n"
     ]
    }
   ],
   "source": [
    "#Q05.\n",
    "num = int(input(\"Enter any Number:-   \"))\n",
    "factorial = 1\n",
    "if num < 0:\n",
    "   print(\"Sorry, factorial does not exist for negative numbers.\")\n",
    "elif num == 0:\n",
    "   print(\"The factorial of 0 is 1\")\n",
    "else:\n",
    "   for i in range(1,num + 1):\n",
    "       factorial = factorial*i\n",
    "   print(\"The factorial of\",num,\"is\",factorial)"
   ]
  },
  {
   "cell_type": "code",
   "execution_count": 6,
   "metadata": {},
   "outputs": [
    {
     "name": "stdout",
     "output_type": "stream",
     "text": [
      "Enter any Number:-   5\n",
      "        * \n",
      "       * * \n",
      "      * * * \n",
      "     * * * * \n",
      "    * * * * * \n"
     ]
    }
   ],
   "source": [
    "#Q06.\n",
    "n = int(input(\"Enter any Number:-   \"))\n",
    "k = 2*n - 2\n",
    "for i in range(0, n): \n",
    "    for j in range(0, k): \n",
    "        print(end=\" \")  \n",
    "    k = k - 1\n",
    "    for j in range(0, i+1):  \n",
    "        print(\"* \", end=\"\")  \n",
    "    print(\"\\r\") "
   ]
  },
  {
   "cell_type": "code",
   "execution_count": 7,
   "metadata": {},
   "outputs": [
    {
     "name": "stdout",
     "output_type": "stream",
     "text": [
      "Enter any Number:-   10\n",
      "1 1 2 3 5 8 13 21 34 "
     ]
    }
   ],
   "source": [
    "#Q07.\n",
    "t1 = 1\n",
    "t2 = 1\n",
    "num = int(input(\"Enter any Number:-   \"))\n",
    "for i in range(1,num,1):\n",
    "    print(t1, end = \" \")\n",
    "    new = t1 + t2\n",
    "    t1 = t2\n",
    "    t2 = new"
   ]
  },
  {
   "cell_type": "code",
   "execution_count": 8,
   "metadata": {},
   "outputs": [
    {
     "name": "stdout",
     "output_type": "stream",
     "text": [
      "Enter any Number:-   12\n",
      "Number is Composite dividend is 6\n",
      "Number is Composite dividend is 4\n",
      "Number is Composite dividend is 3\n",
      "Number is Composite dividend is 2\n"
     ]
    }
   ],
   "source": [
    "#Q08.\n",
    "num = int(input(\"Enter any Number:-   \"))\n",
    "for i in range(num-1,1,-1):\n",
    "    if num % i == 0:\n",
    "       print(\"Number is Composite dividend is\",i)"
   ]
  },
  {
   "cell_type": "code",
   "execution_count": 9,
   "metadata": {},
   "outputs": [
    {
     "name": "stdout",
     "output_type": "stream",
     "text": [
      "Enter First Number:-   12\n",
      "Enter Second Number:-  3\n",
      "Enter the operation to be Performed:-  /\n",
      "4.0\n"
     ]
    }
   ],
   "source": [
    "#Q09.\n",
    "a = int(input(\"Enter First Number:-   \"))\n",
    "b = int(input(\"Enter Second Number:-  \"))\n",
    "c = str(input(\"Enter the operation to be Performed:-  \"))\n",
    "if c == '+':\n",
    "   print(a+b)\n",
    "elif c == '-':\n",
    "   print(a-b)\n",
    "elif c == '*':\n",
    "   print(a*b)\n",
    "elif c == '/':\n",
    "   print(a/b)"
   ]
  },
  {
   "cell_type": "code",
   "execution_count": null,
   "metadata": {},
   "outputs": [],
   "source": []
  }
 ],
 "metadata": {
  "kernelspec": {
   "display_name": "Python 3",
   "language": "python",
   "name": "python3"
  },
  "language_info": {
   "codemirror_mode": {
    "name": "ipython",
    "version": 3
   },
   "file_extension": ".py",
   "mimetype": "text/x-python",
   "name": "python",
   "nbconvert_exporter": "python",
   "pygments_lexer": "ipython3",
   "version": "3.7.4"
  }
 },
 "nbformat": 4,
 "nbformat_minor": 2
}
